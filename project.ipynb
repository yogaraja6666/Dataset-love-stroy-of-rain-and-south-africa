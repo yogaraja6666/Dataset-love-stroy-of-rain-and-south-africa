{
 "cells": [
  {
   "cell_type": "code",
   "execution_count": 50,
   "id": "9872c2a3",
   "metadata": {},
   "outputs": [],
   "source": [
    "import pandas as pd\n",
    "import matplotlib.pyplot as plt\n",
    "import seaborn as sns"
   ]
  },
  {
   "cell_type": "code",
   "execution_count": 51,
   "id": "7e641cb4",
   "metadata": {},
   "outputs": [
    {
     "data": {
      "text/html": [
       "<div>\n",
       "<style scoped>\n",
       "    .dataframe tbody tr th:only-of-type {\n",
       "        vertical-align: middle;\n",
       "    }\n",
       "\n",
       "    .dataframe tbody tr th {\n",
       "        vertical-align: top;\n",
       "    }\n",
       "\n",
       "    .dataframe thead th {\n",
       "        text-align: right;\n",
       "    }\n",
       "</style>\n",
       "<table border=\"1\" class=\"dataframe\">\n",
       "  <thead>\n",
       "    <tr style=\"text-align: right;\">\n",
       "      <th></th>\n",
       "      <th>Year</th>\n",
       "      <th>Match type</th>\n",
       "      <th>Team A</th>\n",
       "      <th>Team B</th>\n",
       "      <th>venue</th>\n",
       "      <th>Result</th>\n",
       "    </tr>\n",
       "  </thead>\n",
       "  <tbody>\n",
       "    <tr>\n",
       "      <th>0</th>\n",
       "      <td>1992</td>\n",
       "      <td>2nd Semi Finall</td>\n",
       "      <td>England</td>\n",
       "      <td>South Africa</td>\n",
       "      <td>Sydney</td>\n",
       "      <td>0</td>\n",
       "    </tr>\n",
       "    <tr>\n",
       "      <th>1</th>\n",
       "      <td>2003</td>\n",
       "      <td>15th match</td>\n",
       "      <td>South Africa</td>\n",
       "      <td>New Zealand</td>\n",
       "      <td>The Wanderers Stadium, Johannesburg</td>\n",
       "      <td>0</td>\n",
       "    </tr>\n",
       "    <tr>\n",
       "      <th>2</th>\n",
       "      <td>2015</td>\n",
       "      <td>29th match</td>\n",
       "      <td>Pakistan</td>\n",
       "      <td>South Africa</td>\n",
       "      <td>Eden Park, Auckland</td>\n",
       "      <td>0</td>\n",
       "    </tr>\n",
       "    <tr>\n",
       "      <th>3</th>\n",
       "      <td>2015</td>\n",
       "      <td>1st Semi Finall</td>\n",
       "      <td>New Zealand</td>\n",
       "      <td>South Africa</td>\n",
       "      <td>Eden Park, Auckland</td>\n",
       "      <td>0</td>\n",
       "    </tr>\n",
       "    <tr>\n",
       "      <th>4</th>\n",
       "      <td>2019</td>\n",
       "      <td>21st Match</td>\n",
       "      <td>South Africa</td>\n",
       "      <td>Afghanistan</td>\n",
       "      <td>Sophia Gardens, Cardiff</td>\n",
       "      <td>1</td>\n",
       "    </tr>\n",
       "    <tr>\n",
       "      <th>5</th>\n",
       "      <td>2023</td>\n",
       "      <td>15th match</td>\n",
       "      <td>Netherlands</td>\n",
       "      <td>South Africa</td>\n",
       "      <td>Himachal Pradesh Cricket Association Stadium, ...</td>\n",
       "      <td>0</td>\n",
       "    </tr>\n",
       "  </tbody>\n",
       "</table>\n",
       "</div>"
      ],
      "text/plain": [
       "   Year       Match type         Team A        Team B  \\\n",
       "0  1992  2nd Semi Finall        England  South Africa   \n",
       "1  2003       15th match  South Africa    New Zealand   \n",
       "2  2015       29th match       Pakistan  South Africa   \n",
       "3  2015  1st Semi Finall    New Zealand  South Africa   \n",
       "4  2019       21st Match  South Africa    Afghanistan   \n",
       "5  2023       15th match    Netherlands  South Africa   \n",
       "\n",
       "                                               venue  Result  \n",
       "0                                             Sydney       0  \n",
       "1                The Wanderers Stadium, Johannesburg       0  \n",
       "2                                Eden Park, Auckland       0  \n",
       "3                                Eden Park, Auckland       0  \n",
       "4                            Sophia Gardens, Cardiff       1  \n",
       "5  Himachal Pradesh Cricket Association Stadium, ...       0  "
      ]
     },
     "execution_count": 51,
     "metadata": {},
     "output_type": "execute_result"
    }
   ],
   "source": [
    "df = pd.read_excel(\"love stroy of rain and south africa.xlsx\")\n",
    "df"
   ]
  },
  {
   "cell_type": "code",
   "execution_count": 52,
   "id": "512b1450",
   "metadata": {},
   "outputs": [
    {
     "data": {
      "text/plain": [
       "6"
      ]
     },
     "execution_count": 52,
     "metadata": {},
     "output_type": "execute_result"
    }
   ],
   "source": [
    "yearcounts = len(df[\"Year\"])\n",
    "yearcounts"
   ]
  },
  {
   "cell_type": "code",
   "execution_count": 53,
   "id": "c15be32a",
   "metadata": {},
   "outputs": [
    {
     "data": {
      "text/plain": [
       "5"
      ]
     },
     "execution_count": 53,
     "metadata": {},
     "output_type": "execute_result"
    }
   ],
   "source": [
    "lost = len(df[df['Result']==0])\n",
    "lost"
   ]
  },
  {
   "cell_type": "code",
   "execution_count": 54,
   "id": "08226ca8",
   "metadata": {},
   "outputs": [
    {
     "data": {
      "text/plain": [
       "1"
      ]
     },
     "execution_count": 54,
     "metadata": {},
     "output_type": "execute_result"
    }
   ],
   "source": [
    "win = len(df[df['Result'] == 1])\n",
    "win"
   ]
  },
  {
   "cell_type": "code",
   "execution_count": 79,
   "id": "899fa56f",
   "metadata": {},
   "outputs": [
    {
     "data": {
      "image/png": "[encoded data removed]",
      "text/plain": [
       "<Figure size 640x480 with 1 Axes>"
      ]
     },
     "metadata": {},
     "output_type": "display_data"
    }
   ],
   "source": [
    "x = [\"Rain-Affected Matches\",'Win','Lost']\n",
    "y = [yearcounts,win,lost]\n",
    "colors = ['blue', 'red', 'green']\n",
    "plt.bar(x, y, color=colors)\n",
    "for i, v in enumerate(y):\n",
    "    plt.text(i, v + 0.1, str(v), color='black', ha='center', va='bottom')\n",
    "plt.ylabel('Matches')\n",
    "plt.title(\"ICC World Cup : South Africa's Love Story with Rain\")\n",
    "plt.show()"
   ]
  },
  {
   "cell_type": "code",
   "execution_count": null,
   "id": "6fae0508",
   "metadata": {},
   "outputs": [],
   "source": []
  }
 ],
 "metadata": {
  "kernelspec": {
   "display_name": "Python 3 (ipykernel)",
   "language": "python",
   "name": "python3"
  },
  "language_info": {
   "codemirror_mode": {
    "name": "ipython",
    "version": 3
   },
   "file_extension": ".py",
   "mimetype": "text/x-python",
   "name": "python",
   "nbconvert_exporter": "python",
   "pygments_lexer": "ipython3",
   "version": "3.11.4"
  }
 },
 "nbformat": 4,
 "nbformat_minor": 5
}
